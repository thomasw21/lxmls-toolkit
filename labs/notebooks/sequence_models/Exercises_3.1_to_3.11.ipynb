{
 "cells": [
  {
   "cell_type": "code",
   "execution_count": 1,
   "metadata": {},
   "outputs": [],
   "source": [
    "%load_ext autoreload\n",
    "%autoreload 2"
   ]
  },
  {
   "cell_type": "code",
   "execution_count": 2,
   "metadata": {},
   "outputs": [],
   "source": [
    "# Other imports.\n",
    "from lxmls import DATA_PATH\n",
    "import lxmls.readers.simple_sequence as ssr\n",
    "import lxmls.sequences.hmm as hmmc\n",
    "import lxmls.readers.pos_corpus as pcc\n",
    "import lxmls.sequences.confusion_matrix as cm"
   ]
  },
  {
   "cell_type": "markdown",
   "metadata": {},
   "source": [
    "# Exercise 3.1\n",
    "Load the simple sequence dataset. From the ipython command line create a simple sequence object and look at the training and test set."
   ]
  },
  {
   "cell_type": "code",
   "execution_count": 3,
   "metadata": {},
   "outputs": [
    {
     "name": "stdout",
     "output_type": "stream",
     "text": [
      "[walk/rainy walk/sunny shop/sunny clean/sunny , walk/rainy walk/rainy shop/rainy clean/sunny , walk/sunny shop/sunny shop/sunny clean/sunny ]\n",
      "[walk/rainy walk/sunny shop/sunny clean/sunny , clean/sunny walk/sunny tennis/sunny walk/sunny ]\n"
     ]
    }
   ],
   "source": [
    "simple = ssr.SimpleSequence()\n",
    "print(simple.train)\n",
    "print(simple.test)"
   ]
  },
  {
   "cell_type": "code",
   "execution_count": 4,
   "metadata": {},
   "outputs": [
    {
     "name": "stdout",
     "output_type": "stream",
     "text": [
      "walk/rainy walk/sunny shop/sunny clean/sunny \n",
      "walk/rainy walk/rainy shop/rainy clean/sunny \n",
      "walk/sunny shop/sunny shop/sunny clean/sunny \n"
     ]
    }
   ],
   "source": [
    "for sequence in simple.train.seq_list:\n",
    "    print(sequence)"
   ]
  },
  {
   "cell_type": "code",
   "execution_count": 5,
   "metadata": {},
   "outputs": [
    {
     "name": "stdout",
     "output_type": "stream",
     "text": [
      "[0, 0, 1, 2]\n",
      "[0, 0, 1, 2]\n",
      "[0, 1, 1, 2]\n"
     ]
    }
   ],
   "source": [
    "for sequence in simple.train.seq_list:\n",
    "    print(sequence.x)"
   ]
  },
  {
   "cell_type": "code",
   "execution_count": 6,
   "metadata": {},
   "outputs": [
    {
     "name": "stdout",
     "output_type": "stream",
     "text": [
      "[0, 1, 1, 1]\n",
      "[0, 0, 0, 1]\n",
      "[1, 1, 1, 1]\n"
     ]
    }
   ],
   "source": [
    "for sequence in simple.train.seq_list:\n",
    "    print(sequence.y)"
   ]
  },
  {
   "cell_type": "markdown",
   "metadata": {},
   "source": [
    "# Exercise 3.2\n",
    "The provided function train_supervised from the hmm.py file implements the above parameter estimates.\n",
    "Run this function given the simple dataset above and look at the estimated probabilities. Are they correct? You can also\n",
    "check the variables ending in counts instead of probs to see the raw counts (for example, typing hmm.initial counts\n",
    "will show you the raw counts of initial states). How are the counts related to the probabilities?"
   ]
  },
  {
   "cell_type": "code",
   "execution_count": 7,
   "metadata": {},
   "outputs": [
    {
     "name": "stdout",
     "output_type": "stream",
     "text": [
      "Initial Probabilities:\n",
      "[0.66666667 0.33333333]\n",
      "Initial Counts:\n",
      "[2. 1.]\n"
     ]
    }
   ],
   "source": [
    "hmm = hmmc.HMM(simple.x_dict, simple.y_dict)\n",
    "hmm.train_supervised(simple.train)\n",
    "\n",
    "print(\"Initial Probabilities:\")\n",
    "print(hmm.initial_probs)\n",
    "\n",
    "print(\"Initial Counts:\")\n",
    "print(hmm.initial_counts)"
   ]
  },
  {
   "cell_type": "code",
   "execution_count": 8,
   "metadata": {},
   "outputs": [
    {
     "name": "stdout",
     "output_type": "stream",
     "text": [
      "Transition Probabilities:\n",
      "[[0.5   0.   ]\n",
      " [0.5   0.625]]\n",
      "Transition Counts:\n",
      "[[2. 0.]\n",
      " [2. 5.]]\n"
     ]
    }
   ],
   "source": [
    "print(\"Transition Probabilities:\")\n",
    "print(hmm.transition_probs)\n",
    "\n",
    "print(\"Transition Counts:\")\n",
    "print(hmm.transition_counts)"
   ]
  },
  {
   "cell_type": "code",
   "execution_count": 9,
   "metadata": {},
   "outputs": [
    {
     "name": "stdout",
     "output_type": "stream",
     "text": [
      "Final Probabilities:\n",
      "[0.    0.375]\n",
      "Final Counts:\n",
      "[0. 3.]\n"
     ]
    }
   ],
   "source": [
    "print(\"Final Probabilities:\")\n",
    "print(hmm.final_probs)\n",
    "\n",
    "print(\"Final Counts:\")\n",
    "print(hmm.final_counts)"
   ]
  },
  {
   "cell_type": "code",
   "execution_count": 10,
   "metadata": {},
   "outputs": [
    {
     "name": "stdout",
     "output_type": "stream",
     "text": [
      "Emission Probabilities\n",
      "[[0.75  0.25 ]\n",
      " [0.25  0.375]\n",
      " [0.    0.375]\n",
      " [0.    0.   ]]\n",
      "Emission Counts:\n",
      "[[3. 2.]\n",
      " [1. 3.]\n",
      " [0. 3.]\n",
      " [0. 0.]]\n"
     ]
    }
   ],
   "source": [
    "# Seems okay\n",
    "\n",
    "print(\"Emission Probabilities\")\n",
    "print(hmm.emission_probs)\n",
    "\n",
    "print(\"Emission Counts:\")\n",
    "print(hmm.emission_counts)"
   ]
  },
  {
   "cell_type": "markdown",
   "metadata": {},
   "source": [
    "# Exercise 3.3 \n",
    "Convince yourself that the score of a path in the trellis (summing over the scores above) is equivalent to the\n",
    "log-probability $\\log P(X = x, Y = y)$, as defined in Eq. 2.2. Use the given function compute_scores on the first training\n",
    "sequence and confirm that the values are correct. You should get the same values as presented below"
   ]
  },
  {
   "cell_type": "code",
   "execution_count": 11,
   "metadata": {},
   "outputs": [
    {
     "name": "stdout",
     "output_type": "stream",
     "text": [
      "[-0.40546511 -1.09861229]\n"
     ]
    },
    {
     "name": "stderr",
     "output_type": "stream",
     "text": [
      "c:\\users\\thoma\\documents\\inria\\lxmls-toolkit\\lxmls\\sequences\\hmm.py:180: RuntimeWarning: divide by zero encountered in log\n",
      "  transition_scores[pos-1, :, :] = np.log(self.transition_probs)\n",
      "c:\\users\\thoma\\documents\\inria\\lxmls-toolkit\\lxmls\\sequences\\hmm.py:178: RuntimeWarning: divide by zero encountered in log\n",
      "  emission_scores[pos, :] = np.log(self.emission_probs[sequence.x[pos], :])\n",
      "c:\\users\\thoma\\documents\\inria\\lxmls-toolkit\\lxmls\\sequences\\hmm.py:183: RuntimeWarning: divide by zero encountered in log\n",
      "  final_scores = np.log(self.final_probs)\n"
     ]
    }
   ],
   "source": [
    "initial_scores, transition_scores, final_scores, emission_scores = \\\n",
    "    hmm.compute_scores(simple.train.seq_list[0])\n",
    "print(initial_scores)"
   ]
  },
  {
   "cell_type": "code",
   "execution_count": 12,
   "metadata": {},
   "outputs": [
    {
     "name": "stdout",
     "output_type": "stream",
     "text": [
      "[[[-0.69314718        -inf]\n",
      "  [-0.69314718 -0.47000363]]\n",
      "\n",
      " [[-0.69314718        -inf]\n",
      "  [-0.69314718 -0.47000363]]\n",
      "\n",
      " [[-0.69314718        -inf]\n",
      "  [-0.69314718 -0.47000363]]]\n"
     ]
    }
   ],
   "source": [
    "print(transition_scores)"
   ]
  },
  {
   "cell_type": "code",
   "execution_count": 13,
   "metadata": {},
   "outputs": [
    {
     "name": "stdout",
     "output_type": "stream",
     "text": [
      "[       -inf -0.98082925]\n"
     ]
    }
   ],
   "source": [
    "print(final_scores)"
   ]
  },
  {
   "cell_type": "code",
   "execution_count": 14,
   "metadata": {},
   "outputs": [
    {
     "name": "stdout",
     "output_type": "stream",
     "text": [
      "[[-0.28768207 -1.38629436]\n",
      " [-0.28768207 -1.38629436]\n",
      " [-1.38629436 -0.98082925]\n",
      " [       -inf -0.98082925]]\n"
     ]
    }
   ],
   "source": [
    "print(emission_scores)"
   ]
  },
  {
   "cell_type": "markdown",
   "metadata": {},
   "source": [
    "# Exercise 3.4 \n",
    "Look at the module ``sequences/log_domain.py``. This module implements a function ``logsum_pair(logx, logy)`` to add two numbers represented in the log-domain; it returns their sum also represented in the log-domain. The\n",
    "function logsum(logv) sums all components of an array represented in the log-domain. This will be used later in our\n",
    "decoding algorithms. To observe why this is important, type the following:"
   ]
  },
  {
   "cell_type": "code",
   "execution_count": 15,
   "metadata": {},
   "outputs": [
    {
     "name": "stdout",
     "output_type": "stream",
     "text": [
      "2.875782832334107\n",
      "9.395415957290211\n",
      "83.68003784790153\n",
      "inf\n"
     ]
    },
    {
     "name": "stderr",
     "output_type": "stream",
     "text": [
      "c:\\users\\thoma\\anaconda3\\envs\\lxmls2021\\lib\\site-packages\\ipykernel_launcher.py:7: RuntimeWarning: overflow encountered in exp\n",
      "  import sys\n"
     ]
    }
   ],
   "source": [
    "import numpy as np\n",
    "\n",
    "a = np.random.rand(10)\n",
    "print(np.log(sum(np.exp(a))))\n",
    "print(np.log(sum(np.exp(10*a))))\n",
    "print(np.log(sum(np.exp(100*a))))\n",
    "print(np.log(sum(np.exp(1000*a))))"
   ]
  },
  {
   "cell_type": "code",
   "execution_count": 16,
   "metadata": {},
   "outputs": [
    {
     "name": "stdout",
     "output_type": "stream",
     "text": [
      "2.8757828323341066\n",
      "9.395415957290211\n",
      "83.68003784790154\n",
      "834.0647686253029\n"
     ]
    }
   ],
   "source": [
    "from lxmls.sequences.log_domain import logsum\n",
    "\n",
    "print(logsum(a))\n",
    "print(logsum(10*a))\n",
    "print(logsum(100*a))\n",
    "print(logsum(1000*a))"
   ]
  },
  {
   "cell_type": "markdown",
   "metadata": {},
   "source": [
    "# Exercise 3.5 \n",
    "Run the provided forward-backward algorithm on the first train sequence. Observe that both the forward\n",
    "and the backward passes give the same log-likelihood."
   ]
  },
  {
   "cell_type": "code",
   "execution_count": 17,
   "metadata": {},
   "outputs": [
    {
     "name": "stdout",
     "output_type": "stream",
     "text": [
      "Log-Likelihood = -5.068232326005127\n"
     ]
    }
   ],
   "source": [
    "log_likelihood, forward = hmm.decoder.run_forward(initial_scores, transition_scores, final_scores, emission_scores)\n",
    "print('Log-Likelihood = {}'.format(log_likelihood))"
   ]
  },
  {
   "cell_type": "code",
   "execution_count": 18,
   "metadata": {},
   "outputs": [
    {
     "name": "stdout",
     "output_type": "stream",
     "text": [
      "Log-Likelihood = -5.068232326005126\n"
     ]
    }
   ],
   "source": [
    "log_likelihood, backward = hmm.decoder.run_backward(initial_scores, transition_scores, final_scores, emission_scores)\n",
    "print('Log-Likelihood = {}'.format(log_likelihood))"
   ]
  },
  {
   "cell_type": "markdown",
   "metadata": {},
   "source": [
    "# Exercise 3.6 \n",
    "Compute the node posteriors for the first training sequence (use the provided compute posteriors function), and look at the output. Note that the state posteriors are a proper probability distribution (the lines of the result\n",
    "sum to 1)"
   ]
  },
  {
   "cell_type": "code",
   "execution_count": 19,
   "metadata": {},
   "outputs": [
    {
     "name": "stdout",
     "output_type": "stream",
     "text": [
      "[[0.95738152 0.04261848]\n",
      " [0.75281282 0.24718718]\n",
      " [0.26184794 0.73815206]\n",
      " [0.         1.        ]]\n"
     ]
    }
   ],
   "source": [
    "initial_scores, transition_scores, final_scores, emission_scores = \\\n",
    "    hmm.compute_scores(simple.train.seq_list[0])\n",
    "state_posteriors, _, _ = hmm.compute_posteriors(initial_scores,\n",
    "                                                transition_scores,\n",
    "                                                final_scores,\n",
    "                                                emission_scores)\n",
    "print(state_posteriors)"
   ]
  },
  {
   "cell_type": "markdown",
   "metadata": {},
   "source": [
    "# Exercise 3.7 \n",
    "Run the posterior decode on the first test sequence, and evaluate it."
   ]
  },
  {
   "cell_type": "code",
   "execution_count": 20,
   "metadata": {},
   "outputs": [
    {
     "name": "stdout",
     "output_type": "stream",
     "text": [
      "Prediction test 0: walk/rainy walk/rainy shop/sunny clean/sunny \n",
      "Truth test 0: walk/rainy walk/sunny shop/sunny clean/sunny \n"
     ]
    }
   ],
   "source": [
    "y_pred = hmm.posterior_decode(simple.test.seq_list[0])\n",
    "print(\"Prediction test 0: {}\".format(y_pred))\n",
    "print(\"Truth test 0: {}\".format(simple.test.seq_list[0]))"
   ]
  },
  {
   "cell_type": "markdown",
   "metadata": {},
   "source": [
    "Do the same for the second test sequence:"
   ]
  },
  {
   "cell_type": "code",
   "execution_count": 21,
   "metadata": {},
   "outputs": [
    {
     "name": "stdout",
     "output_type": "stream",
     "text": [
      "Prediction test 1 clean/rainy walk/rainy tennis/rainy walk/rainy \n",
      "Truth test 1 clean/sunny walk/sunny tennis/sunny walk/sunny \n"
     ]
    },
    {
     "name": "stderr",
     "output_type": "stream",
     "text": [
      "c:\\users\\thoma\\documents\\inria\\lxmls-toolkit\\lxmls\\sequences\\sequence_classifier.py:80: RuntimeWarning: invalid value encountered in subtract\n",
      "  state_posteriors[pos, :] -= log_likelihood\n",
      "c:\\users\\thoma\\documents\\inria\\lxmls-toolkit\\lxmls\\sequences\\sequence_classifier.py:93: RuntimeWarning: invalid value encountered in double_scalars\n",
      "  transition_posteriors[pos, state, prev_state] -= log_likelihood\n"
     ]
    }
   ],
   "source": [
    "y_pred = hmm.posterior_decode(simple.test.seq_list[1])\n",
    "print(\"Prediction test 1\", y_pred)\n",
    "print(\"Truth test 1\", simple.test.seq_list[1])"
   ]
  },
  {
   "cell_type": "markdown",
   "metadata": {},
   "source": [
    "What is wrong? Note the observations for the second test sequence: the observation tennis was never seen at\n",
    "training time, so the probability for it will be zero (no matter what state). This will make all possible state sequences have\n",
    "zero probability. As seen in the previous lecture, this is a problem with generative models, which can be corrected using\n",
    "smoothing (among other options)."
   ]
  },
  {
   "cell_type": "markdown",
   "metadata": {},
   "source": [
    "Change the train supervised method to add smoothing:"
   ]
  },
  {
   "cell_type": "markdown",
   "metadata": {},
   "source": [
    "    def train_supervised(self,sequence_list, smoothing):\n",
    "        "
   ]
  },
  {
   "cell_type": "code",
   "execution_count": 22,
   "metadata": {},
   "outputs": [
    {
     "name": "stdout",
     "output_type": "stream",
     "text": [
      "Prediction test 0 with smoothing\n",
      "walk/rainy walk/rainy shop/sunny clean/sunny \n",
      "Truth test 0\n",
      "walk/rainy walk/sunny shop/sunny clean/sunny \n"
     ]
    }
   ],
   "source": [
    "hmm.train_supervised(simple.train, smoothing=0.1)\n",
    "\n",
    "y_pred = hmm.posterior_decode(simple.test.seq_list[0])\n",
    "print(\"Prediction test 0 with smoothing\")\n",
    "print(y_pred)\n",
    "print(\"Truth test 0\")\n",
    "print(simple.test.seq_list[0])"
   ]
  },
  {
   "cell_type": "code",
   "execution_count": 23,
   "metadata": {},
   "outputs": [
    {
     "name": "stdout",
     "output_type": "stream",
     "text": [
      "Prediction test 1 with smoothing\n",
      "clean/sunny walk/sunny tennis/sunny walk/sunny \n",
      "Truth test 1\n",
      "clean/sunny walk/sunny tennis/sunny walk/sunny \n"
     ]
    }
   ],
   "source": [
    "y_pred = hmm.posterior_decode(simple.test.seq_list[1])\n",
    "print(\"Prediction test 1 with smoothing\")\n",
    "print(y_pred)\n",
    "print(\"Truth test 1\")\n",
    "print(simple.test.seq_list[1])"
   ]
  },
  {
   "cell_type": "markdown",
   "metadata": {},
   "source": [
    "# Exercise 3.8\n",
    "\n",
    "Implement a method for performing Viterbi decoding in file ``sequence classification decoder.py``.\n",
    "\n",
    "*Hint:* look at the implementation of ``run forward``. Also check the help for the numpy methods max and argmax.\n",
    "This method will be called by\n",
    "\n",
    "``def viterbi_decode(self, sequence)``\n",
    "\n",
    "in the module sequence classifier.py."
   ]
  },
  {
   "cell_type": "code",
   "execution_count": 25,
   "metadata": {},
   "outputs": [
    {
     "name": "stdout",
     "output_type": "stream",
     "text": [
      "Viterbi decoding Prediction test 0 with smoothing\n",
      "walk/rainy walk/rainy shop/sunny clean/sunny  -6.020501246982869\n",
      "Truth test 0\n",
      "walk/rainy walk/sunny shop/sunny clean/sunny \n"
     ]
    }
   ],
   "source": [
    "hmm.train_supervised(simple.train, smoothing=0.1)\n",
    "y_pred, score = hmm.viterbi_decode(simple.test.seq_list[0])\n",
    "print(\"Viterbi decoding Prediction test 0 with smoothing\")\n",
    "print(y_pred, score)\n",
    "print(\"Truth test 0\")\n",
    "print(simple.test.seq_list[0])"
   ]
  },
  {
   "cell_type": "code",
   "execution_count": 26,
   "metadata": {},
   "outputs": [
    {
     "name": "stdout",
     "output_type": "stream",
     "text": [
      "Viterbi decoding Prediction test 1 with smoothing\n",
      "clean/sunny walk/sunny tennis/sunny walk/sunny  -11.713974073970887\n",
      "Truth test 1\n",
      "clean/sunny walk/sunny tennis/sunny walk/sunny \n"
     ]
    }
   ],
   "source": [
    "y_pred, score = hmm.viterbi_decode(simple.test.seq_list[1])\n",
    "print(\"Viterbi decoding Prediction test 1 with smoothing\")\n",
    "print(y_pred, score)\n",
    "print(\"Truth test 1\")\n",
    "print(simple.test.seq_list[1])"
   ]
  },
  {
   "cell_type": "markdown",
   "metadata": {},
   "source": [
    "# Exercise 3.9 \n",
    "Test the model using both posterior decoding and Viterbi decoding on both the train and test set, using the\n",
    "methods in class HMM"
   ]
  },
  {
   "cell_type": "code",
   "execution_count": 27,
   "metadata": {},
   "outputs": [
    {
     "data": {
      "image/png": "[encoded data removed]",
      "text/plain": [
       "<Figure size 432x288 with 2 Axes>"
      ]
     },
     "metadata": {
      "needs_background": "light"
     },
     "output_type": "display_data"
    }
   ],
   "source": [
    "%matplotlib inline\n",
    "\n",
    "corpus = pcc.PostagCorpus()\n",
    "train_seq = corpus.read_sequence_list_conll(\"%s/train-02-21.conll\" % DATA_PATH, max_sent_len=15, max_nr_sent=1000)\n",
    "test_seq = corpus.read_sequence_list_conll(\"%s/test-23.conll\" % DATA_PATH, max_sent_len=15, max_nr_sent=1000)\n",
    "dev_seq = corpus.read_sequence_list_conll(\"%s/dev-22.conll\" % DATA_PATH, max_sent_len=15, max_nr_sent=1000)\n",
    "hmm = hmmc.HMM(corpus.word_dict, corpus.tag_dict)\n",
    "hmm.train_supervised(train_seq)\n",
    "hmm.print_transition_matrix()"
   ]
  },
  {
   "cell_type": "code",
   "execution_count": 28,
   "metadata": {},
   "outputs": [
    {
     "name": "stderr",
     "output_type": "stream",
     "text": [
      "c:\\users\\thoma\\documents\\inria\\lxmls-toolkit\\lxmls\\sequences\\hmm.py:178: RuntimeWarning: divide by zero encountered in log\n",
      "  emission_scores[pos, :] = np.log(self.emission_probs[sequence.x[pos], :])\n",
      "c:\\users\\thoma\\documents\\inria\\lxmls-toolkit\\lxmls\\sequences\\hmm.py:180: RuntimeWarning: divide by zero encountered in log\n",
      "  transition_scores[pos-1, :, :] = np.log(self.transition_probs)\n",
      "c:\\users\\thoma\\documents\\inria\\lxmls-toolkit\\lxmls\\sequences\\hmm.py:183: RuntimeWarning: divide by zero encountered in log\n",
      "  final_scores = np.log(self.final_probs)\n"
     ]
    },
    {
     "name": "stdout",
     "output_type": "stream",
     "text": [
      "Train Set Accuracy: Posterior Decode 0.985, Viterbi Decode: 0.985\n"
     ]
    }
   ],
   "source": [
    "viterbi_pred_train = hmm.viterbi_decode_corpus(train_seq)\n",
    "posterior_pred_train = hmm.posterior_decode_corpus(train_seq)\n",
    "eval_viterbi_train = hmm.evaluate_corpus(train_seq, viterbi_pred_train)\n",
    "eval_posterior_train = hmm.evaluate_corpus(train_seq, posterior_pred_train)\n",
    "print(\"Train Set Accuracy: Posterior Decode %.3f, Viterbi Decode: %.3f\"%(\n",
    "eval_posterior_train,eval_viterbi_train))"
   ]
  },
  {
   "cell_type": "code",
   "execution_count": 29,
   "metadata": {},
   "outputs": [
    {
     "name": "stderr",
     "output_type": "stream",
     "text": [
      "c:\\users\\thoma\\documents\\inria\\lxmls-toolkit\\lxmls\\sequences\\sequence_classifier.py:80: RuntimeWarning: invalid value encountered in subtract\n",
      "  state_posteriors[pos, :] -= log_likelihood\n",
      "c:\\users\\thoma\\documents\\inria\\lxmls-toolkit\\lxmls\\sequences\\sequence_classifier.py:93: RuntimeWarning: invalid value encountered in double_scalars\n",
      "  transition_posteriors[pos, state, prev_state] -= log_likelihood\n"
     ]
    },
    {
     "name": "stdout",
     "output_type": "stream",
     "text": [
      "Test Set Accuracy: Posterior Decode 0.350, Viterbi Decode: 0.509\n"
     ]
    }
   ],
   "source": [
    "viterbi_pred_test = hmm.viterbi_decode_corpus(test_seq)\n",
    "posterior_pred_test = hmm.posterior_decode_corpus(test_seq)\n",
    "eval_viterbi_test = hmm.evaluate_corpus(test_seq, viterbi_pred_test)\n",
    "eval_posterior_test = hmm.evaluate_corpus(test_seq, posterior_pred_test)\n",
    "print(\"Test Set Accuracy: Posterior Decode %.3f, Viterbi Decode: %.3f\" % (eval_posterior_test, eval_viterbi_test))"
   ]
  },
  {
   "cell_type": "code",
   "execution_count": 30,
   "metadata": {},
   "outputs": [
    {
     "name": "stdout",
     "output_type": "stream",
     "text": [
      "Smoothing 10.000000 --  Train Set Accuracy: Posterior Decode 0.731, Viterbi Decode: 0.691\n",
      "Smoothing 10.000000 -- Test Set Accuracy: Posterior Decode 0.712, Viterbi Decode: 0.675\n",
      "Smoothing 1.000000 --  Train Set Accuracy: Posterior Decode 0.887, Viterbi Decode: 0.865\n",
      "Smoothing 1.000000 -- Test Set Accuracy: Posterior Decode 0.818, Viterbi Decode: 0.792\n",
      "Smoothing 0.100000 --  Train Set Accuracy: Posterior Decode 0.968, Viterbi Decode: 0.965\n",
      "Smoothing 0.100000 -- Test Set Accuracy: Posterior Decode 0.851, Viterbi Decode: 0.842\n",
      "Smoothing 0.000000 --  Train Set Accuracy: Posterior Decode 0.985, Viterbi Decode: 0.985\n",
      "Smoothing 0.000000 -- Test Set Accuracy: Posterior Decode 0.370, Viterbi Decode: 0.526\n",
      "Best Smoothing 0.100000 --  Test Set Accuracy: Posterior Decode 0.837, Viterbi Decode: 0.827\n"
     ]
    }
   ],
   "source": [
    "best_smothing = hmm.pick_best_smoothing(train_seq, dev_seq, [10, 1, 0.1, 0])\n",
    "\n",
    "hmm.train_supervised(train_seq, smoothing=best_smothing)\n",
    "viterbi_pred_test = hmm.viterbi_decode_corpus(test_seq)\n",
    "posterior_pred_test = hmm.posterior_decode_corpus(test_seq)\n",
    "eval_viterbi_test = hmm.evaluate_corpus(test_seq, viterbi_pred_test)\n",
    "eval_posterior_test = hmm.evaluate_corpus(test_seq, posterior_pred_test)\n",
    "print(\"Best Smoothing %f --  Test Set Accuracy: Posterior Decode %.3f, Viterbi Decode: %.3f\" % (best_smothing, eval_posterior_test, eval_viterbi_test))"
   ]
  },
  {
   "cell_type": "code",
   "execution_count": 31,
   "metadata": {},
   "outputs": [
    {
     "data": {
      "image/png": "[encoded data removed]",
      "text/plain": [
       "<Figure size 432x288 with 1 Axes>"
      ]
     },
     "metadata": {
      "needs_background": "light"
     },
     "output_type": "display_data"
    }
   ],
   "source": [
    "confusion_matrix = cm.build_confusion_matrix(test_seq.seq_list, viterbi_pred_test,\n",
    "                                             len(corpus.tag_dict), hmm.get_num_states())\n",
    "\n",
    "cm.plot_confusion_bar_graph(confusion_matrix, corpus.tag_dict,\n",
    "                            range(hmm.get_num_states()), 'Confusion matrix')\n"
   ]
  },
  {
   "cell_type": "markdown",
   "metadata": {},
   "source": [
    "# Exercice 3.10\n",
    "Implement the method to update the counts given the state and transition posteriors\n",
    "\n",
    "```\n",
    "def update_counts(self, sequence, state_posteriors, transition_posteriors):\n",
    "```\n",
    "\n",
    "Look at the code for EM algorithm in file ```sequences/hmm.py``` and check it for yourself."
   ]
  },
  {
   "cell_type": "markdown",
   "metadata": {},
   "source": [
    "# Exercise 3.11\n",
    "Run 20 epochs of the EM algorithm for part of speech induction:"
   ]
  },
  {
   "cell_type": "code",
   "execution_count": 36,
   "metadata": {},
   "outputs": [
    {
     "ename": "ValueError",
     "evalue": "could not broadcast input array from shape (4,12,12) into shape (12,12)",
     "output_type": "error",
     "traceback": [
      "\u001b[1;31m---------------------------------------------------------------------------\u001b[0m",
      "\u001b[1;31mValueError\u001b[0m                                Traceback (most recent call last)",
      "\u001b[1;32m<ipython-input-36-1dc0b1fed893>\u001b[0m in \u001b[0;36m<module>\u001b[1;34m\u001b[0m\n\u001b[0;32m      1\u001b[0m \u001b[1;31m# Train with EM.\u001b[0m\u001b[1;33m\u001b[0m\u001b[1;33m\u001b[0m\u001b[1;33m\u001b[0m\u001b[0m\n\u001b[1;32m----> 2\u001b[1;33m \u001b[0mhmm\u001b[0m\u001b[1;33m.\u001b[0m\u001b[0mtrain_EM\u001b[0m\u001b[1;33m(\u001b[0m\u001b[0mtrain_seq\u001b[0m\u001b[1;33m,\u001b[0m \u001b[1;36m0.1\u001b[0m\u001b[1;33m,\u001b[0m \u001b[1;36m20\u001b[0m\u001b[1;33m,\u001b[0m \u001b[0mevaluate\u001b[0m\u001b[1;33m=\u001b[0m\u001b[1;32mTrue\u001b[0m\u001b[1;33m)\u001b[0m\u001b[1;33m\u001b[0m\u001b[1;33m\u001b[0m\u001b[0m\n\u001b[0m\u001b[0;32m      3\u001b[0m \u001b[0mviterbi_pred_test\u001b[0m \u001b[1;33m=\u001b[0m \u001b[0mhmm\u001b[0m\u001b[1;33m.\u001b[0m\u001b[0mviterbi_decode_corpus\u001b[0m\u001b[1;33m(\u001b[0m\u001b[0mtest_seq\u001b[0m\u001b[1;33m)\u001b[0m\u001b[1;33m\u001b[0m\u001b[1;33m\u001b[0m\u001b[0m\n\u001b[0;32m      4\u001b[0m \u001b[0mposterior_pred_test\u001b[0m \u001b[1;33m=\u001b[0m \u001b[0mhmm\u001b[0m\u001b[1;33m.\u001b[0m\u001b[0mposterior_decode_corpus\u001b[0m\u001b[1;33m(\u001b[0m\u001b[0mtest_seq\u001b[0m\u001b[1;33m)\u001b[0m\u001b[1;33m\u001b[0m\u001b[1;33m\u001b[0m\u001b[0m\n\u001b[0;32m      5\u001b[0m \u001b[0meval_viterbi_test\u001b[0m \u001b[1;33m=\u001b[0m \u001b[0mhmm\u001b[0m\u001b[1;33m.\u001b[0m\u001b[0mevaluate_corpus\u001b[0m\u001b[1;33m(\u001b[0m\u001b[0mtest_seq\u001b[0m\u001b[1;33m,\u001b[0m \u001b[0mviterbi_pred_test\u001b[0m\u001b[1;33m)\u001b[0m\u001b[1;33m\u001b[0m\u001b[1;33m\u001b[0m\u001b[0m\n",
      "\u001b[1;32mc:\\users\\thoma\\documents\\inria\\lxmls-toolkit\\lxmls\\sequences\\hmm.py\u001b[0m in \u001b[0;36mtrain_EM\u001b[1;34m(self, dataset, smoothing, num_epochs, evaluate, seed)\u001b[0m\n\u001b[0;32m     42\u001b[0m \u001b[1;33m\u001b[0m\u001b[0m\n\u001b[0;32m     43\u001b[0m         \u001b[1;32mif\u001b[0m \u001b[0mevaluate\u001b[0m\u001b[1;33m:\u001b[0m\u001b[1;33m\u001b[0m\u001b[1;33m\u001b[0m\u001b[0m\n\u001b[1;32m---> 44\u001b[1;33m             \u001b[0macc\u001b[0m \u001b[1;33m=\u001b[0m \u001b[0mself\u001b[0m\u001b[1;33m.\u001b[0m\u001b[0mevaluate_EM\u001b[0m\u001b[1;33m(\u001b[0m\u001b[0mdataset\u001b[0m\u001b[1;33m)\u001b[0m\u001b[1;33m\u001b[0m\u001b[1;33m\u001b[0m\u001b[0m\n\u001b[0m\u001b[0;32m     45\u001b[0m             \u001b[0mprint\u001b[0m\u001b[1;33m(\u001b[0m\u001b[1;34m\"Initial accuracy: %f\"\u001b[0m \u001b[1;33m%\u001b[0m \u001b[0macc\u001b[0m\u001b[1;33m)\u001b[0m\u001b[1;33m\u001b[0m\u001b[1;33m\u001b[0m\u001b[0m\n\u001b[0;32m     46\u001b[0m \u001b[1;33m\u001b[0m\u001b[0m\n",
      "\u001b[1;32mc:\\users\\thoma\\documents\\inria\\lxmls-toolkit\\lxmls\\sequences\\hmm.py\u001b[0m in \u001b[0;36mevaluate_EM\u001b[1;34m(self, dataset)\u001b[0m\n\u001b[0;32m     72\u001b[0m     \u001b[1;32mdef\u001b[0m \u001b[0mevaluate_EM\u001b[0m\u001b[1;33m(\u001b[0m\u001b[0mself\u001b[0m\u001b[1;33m,\u001b[0m \u001b[0mdataset\u001b[0m\u001b[1;33m)\u001b[0m\u001b[1;33m:\u001b[0m\u001b[1;33m\u001b[0m\u001b[1;33m\u001b[0m\u001b[0m\n\u001b[0;32m     73\u001b[0m         \u001b[1;31m# Evaluate accuracy at initial iteration\u001b[0m\u001b[1;33m\u001b[0m\u001b[1;33m\u001b[0m\u001b[1;33m\u001b[0m\u001b[0m\n\u001b[1;32m---> 74\u001b[1;33m         \u001b[0mpred\u001b[0m \u001b[1;33m=\u001b[0m \u001b[0mself\u001b[0m\u001b[1;33m.\u001b[0m\u001b[0mviterbi_decode_corpus\u001b[0m\u001b[1;33m(\u001b[0m\u001b[0mdataset\u001b[0m\u001b[1;33m)\u001b[0m\u001b[1;33m\u001b[0m\u001b[1;33m\u001b[0m\u001b[0m\n\u001b[0m\u001b[0;32m     75\u001b[0m         confusion_matrix = cm.build_confusion_matrix(dataset.seq_list, pred,\n\u001b[0;32m     76\u001b[0m                                                      self.get_num_states(), self.get_num_states())\n",
      "\u001b[1;32mc:\\users\\thoma\\documents\\inria\\lxmls-toolkit\\lxmls\\sequences\\sequence_classifier.py\u001b[0m in \u001b[0;36mviterbi_decode_corpus\u001b[1;34m(self, dataset)\u001b[0m\n\u001b[0;32m    147\u001b[0m         \u001b[0mpredictions\u001b[0m \u001b[1;33m=\u001b[0m \u001b[1;33m[\u001b[0m\u001b[1;33m]\u001b[0m\u001b[1;33m\u001b[0m\u001b[1;33m\u001b[0m\u001b[0m\n\u001b[0;32m    148\u001b[0m         \u001b[1;32mfor\u001b[0m \u001b[0msequence\u001b[0m \u001b[1;32min\u001b[0m \u001b[0mdataset\u001b[0m\u001b[1;33m.\u001b[0m\u001b[0mseq_list\u001b[0m\u001b[1;33m:\u001b[0m\u001b[1;33m\u001b[0m\u001b[1;33m\u001b[0m\u001b[0m\n\u001b[1;32m--> 149\u001b[1;33m             \u001b[0mpredicted_sequence\u001b[0m\u001b[1;33m,\u001b[0m \u001b[0m_\u001b[0m \u001b[1;33m=\u001b[0m \u001b[0mself\u001b[0m\u001b[1;33m.\u001b[0m\u001b[0mviterbi_decode\u001b[0m\u001b[1;33m(\u001b[0m\u001b[0msequence\u001b[0m\u001b[1;33m)\u001b[0m\u001b[1;33m\u001b[0m\u001b[1;33m\u001b[0m\u001b[0m\n\u001b[0m\u001b[0;32m    150\u001b[0m             \u001b[0mpredictions\u001b[0m\u001b[1;33m.\u001b[0m\u001b[0mappend\u001b[0m\u001b[1;33m(\u001b[0m\u001b[0mpredicted_sequence\u001b[0m\u001b[1;33m)\u001b[0m\u001b[1;33m\u001b[0m\u001b[1;33m\u001b[0m\u001b[0m\n\u001b[0;32m    151\u001b[0m         \u001b[1;32mreturn\u001b[0m \u001b[0mpredictions\u001b[0m\u001b[1;33m\u001b[0m\u001b[1;33m\u001b[0m\u001b[0m\n",
      "\u001b[1;32mc:\\users\\thoma\\documents\\inria\\lxmls-toolkit\\lxmls\\sequences\\sequence_classifier.py\u001b[0m in \u001b[0;36mviterbi_decode\u001b[1;34m(self, sequence)\u001b[0m\n\u001b[0;32m    130\u001b[0m         \u001b[1;31m# Compute scores given the observation sequence.\u001b[0m\u001b[1;33m\u001b[0m\u001b[1;33m\u001b[0m\u001b[1;33m\u001b[0m\u001b[0m\n\u001b[0;32m    131\u001b[0m         \u001b[0minitial_scores\u001b[0m\u001b[1;33m,\u001b[0m \u001b[0mtransition_scores\u001b[0m\u001b[1;33m,\u001b[0m \u001b[0mfinal_scores\u001b[0m\u001b[1;33m,\u001b[0m \u001b[0memission_scores\u001b[0m \u001b[1;33m=\u001b[0m\u001b[0;31m \u001b[0m\u001b[0;31m\\\u001b[0m\u001b[1;33m\u001b[0m\u001b[1;33m\u001b[0m\u001b[0m\n\u001b[1;32m--> 132\u001b[1;33m             \u001b[0mself\u001b[0m\u001b[1;33m.\u001b[0m\u001b[0mcompute_scores\u001b[0m\u001b[1;33m(\u001b[0m\u001b[0msequence\u001b[0m\u001b[1;33m)\u001b[0m\u001b[1;33m\u001b[0m\u001b[1;33m\u001b[0m\u001b[0m\n\u001b[0m\u001b[0;32m    133\u001b[0m \u001b[1;33m\u001b[0m\u001b[0m\n\u001b[0;32m    134\u001b[0m         \u001b[1;31m# Run the forward algorithm.\u001b[0m\u001b[1;33m\u001b[0m\u001b[1;33m\u001b[0m\u001b[1;33m\u001b[0m\u001b[0m\n",
      "\u001b[1;32mc:\\users\\thoma\\documents\\inria\\lxmls-toolkit\\lxmls\\sequences\\hmm.py\u001b[0m in \u001b[0;36mcompute_scores\u001b[1;34m(self, sequence)\u001b[0m\n\u001b[0;32m    183\u001b[0m             \u001b[0memission_scores\u001b[0m\u001b[1;33m[\u001b[0m\u001b[0mpos\u001b[0m\u001b[1;33m,\u001b[0m \u001b[1;33m:\u001b[0m\u001b[1;33m]\u001b[0m \u001b[1;33m=\u001b[0m \u001b[0mnp\u001b[0m\u001b[1;33m.\u001b[0m\u001b[0mlog\u001b[0m\u001b[1;33m(\u001b[0m\u001b[0mself\u001b[0m\u001b[1;33m.\u001b[0m\u001b[0memission_probs\u001b[0m\u001b[1;33m[\u001b[0m\u001b[0msequence\u001b[0m\u001b[1;33m.\u001b[0m\u001b[0mx\u001b[0m\u001b[1;33m[\u001b[0m\u001b[0mpos\u001b[0m\u001b[1;33m]\u001b[0m\u001b[1;33m,\u001b[0m \u001b[1;33m:\u001b[0m\u001b[1;33m]\u001b[0m\u001b[1;33m)\u001b[0m\u001b[1;33m\u001b[0m\u001b[1;33m\u001b[0m\u001b[0m\n\u001b[0;32m    184\u001b[0m             \u001b[1;32mif\u001b[0m \u001b[0mpos\u001b[0m \u001b[1;33m>\u001b[0m \u001b[1;36m0\u001b[0m\u001b[1;33m:\u001b[0m\u001b[1;33m\u001b[0m\u001b[1;33m\u001b[0m\u001b[0m\n\u001b[1;32m--> 185\u001b[1;33m                 \u001b[0mtransition_scores\u001b[0m\u001b[1;33m[\u001b[0m\u001b[0mpos\u001b[0m\u001b[1;33m-\u001b[0m\u001b[1;36m1\u001b[0m\u001b[1;33m,\u001b[0m \u001b[1;33m:\u001b[0m\u001b[1;33m,\u001b[0m \u001b[1;33m:\u001b[0m\u001b[1;33m]\u001b[0m \u001b[1;33m=\u001b[0m \u001b[0mnp\u001b[0m\u001b[1;33m.\u001b[0m\u001b[0mlog\u001b[0m\u001b[1;33m(\u001b[0m\u001b[0mself\u001b[0m\u001b[1;33m.\u001b[0m\u001b[0mtransition_probs\u001b[0m\u001b[1;33m)\u001b[0m\u001b[1;33m\u001b[0m\u001b[1;33m\u001b[0m\u001b[0m\n\u001b[0m\u001b[0;32m    186\u001b[0m \u001b[1;33m\u001b[0m\u001b[0m\n\u001b[0;32m    187\u001b[0m         \u001b[1;31m# Final position.\u001b[0m\u001b[1;33m\u001b[0m\u001b[1;33m\u001b[0m\u001b[1;33m\u001b[0m\u001b[0m\n",
      "\u001b[1;31mValueError\u001b[0m: could not broadcast input array from shape (4,12,12) into shape (12,12)"
     ]
    }
   ],
   "source": [
    "# Train with EM.\n",
    "hmm.train_EM(train_seq, 0.1, 20, evaluate=True)\n",
    "viterbi_pred_test = hmm.viterbi_decode_corpus(test_seq)\n",
    "posterior_pred_test = hmm.posterior_decode_corpus(test_seq)\n",
    "eval_viterbi_test = hmm.evaluate_corpus(test_seq, viterbi_pred_test)\n",
    "eval_posterior_test = hmm.evaluate_corpus(test_seq, posterior_pred_test)"
   ]
  },
  {
   "cell_type": "code",
   "execution_count": null,
   "metadata": {},
   "outputs": [],
   "source": [
    "confusion_matrix = cm.build_confusion_matrix(test_seq.seq_list, viterbi_pred_test,\n",
    "                                             len(corpus.tag_dict), hmm.get_num_states())\n",
    "cm.plot_confusion_bar_graph(confusion_matrix, corpus.tag_dict,\n",
    "                            range(hmm.get_num_states()), 'Confusion matrix')"
   ]
  }
 ],
 "metadata": {
  "kernelspec": {
   "display_name": "Python 3",
   "language": "python",
   "name": "python3"
  },
  "language_info": {
   "codemirror_mode": {
    "name": "ipython",
    "version": 3
   },
   "file_extension": ".py",
   "mimetype": "text/x-python",
   "name": "python",
   "nbconvert_exporter": "python",
   "pygments_lexer": "ipython3",
   "version": "3.6.13"
  }
 },
 "nbformat": 4,
 "nbformat_minor": 2
}
